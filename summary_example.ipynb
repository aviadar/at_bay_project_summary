{
  "nbformat": 4,
  "nbformat_minor": 0,
  "metadata": {
    "colab": {
      "provenance": []
    },
    "kernelspec": {
      "name": "python3",
      "display_name": "Python 3"
    },
    "language_info": {
      "name": "python"
    },
    "accelerator": "GPU",
    "gpuClass": "standard"
  },
  "cells": [
    {
      "cell_type": "code",
      "execution_count": 1,
      "metadata": {
        "colab": {
          "base_uri": "https://localhost:8080/",
          "height": 1000
        },
        "id": "hkuoBr6w0Dit",
        "outputId": "ff6dfe8b-a1c5-4de6-e6ff-b68dc7b08220"
      },
      "outputs": [
        {
          "output_type": "stream",
          "name": "stdout",
          "text": [
            "Looking in indexes: https://pypi.org/simple, https://us-python.pkg.dev/colab-wheels/public/simple/\n",
            "Processing ./at_bay_project_summarizer-0.0.6-py3-none-any.whl\n",
            "Collecting regex~=2022.8.17\n",
            "  Downloading regex-2022.8.17-cp38-cp38-manylinux_2_17_x86_64.manylinux2014_x86_64.whl (768 kB)\n",
            "\u001b[K     |████████████████████████████████| 768 kB 34.6 MB/s \n",
            "\u001b[?25hCollecting Pillow~=9.2.0\n",
            "  Downloading Pillow-9.2.0-cp38-cp38-manylinux_2_17_x86_64.manylinux2014_x86_64.whl (3.1 MB)\n",
            "\u001b[K     |████████████████████████████████| 3.1 MB 55.1 MB/s \n",
            "\u001b[?25hCollecting certifi~=2022.6.15\n",
            "  Downloading certifi-2022.6.15.2-py3-none-any.whl (160 kB)\n",
            "\u001b[K     |████████████████████████████████| 160 kB 77.0 MB/s \n",
            "\u001b[?25hCollecting urllib3~=1.26.12\n",
            "  Downloading urllib3-1.26.13-py2.py3-none-any.whl (140 kB)\n",
            "\u001b[K     |████████████████████████████████| 140 kB 74.2 MB/s \n",
            "\u001b[?25hCollecting idna~=3.3\n",
            "  Downloading idna-3.4-py3-none-any.whl (61 kB)\n",
            "\u001b[K     |████████████████████████████████| 61 kB 131 kB/s \n",
            "\u001b[?25hCollecting torchvision~=0.13.1\n",
            "  Downloading torchvision-0.13.1-cp38-cp38-manylinux1_x86_64.whl (19.1 MB)\n",
            "\u001b[K     |████████████████████████████████| 19.1 MB 66.7 MB/s \n",
            "\u001b[?25hRequirement already satisfied: charset-normalizer~=2.1.1 in /usr/local/lib/python3.8/dist-packages (from at-bay-project-summarizer==0.0.6) (2.1.1)\n",
            "Collecting huggingface-hub~=0.9.1\n",
            "  Downloading huggingface_hub-0.9.1-py3-none-any.whl (120 kB)\n",
            "\u001b[K     |████████████████████████████████| 120 kB 80.8 MB/s \n",
            "\u001b[?25hCollecting requests~=2.28.1\n",
            "  Downloading requests-2.28.1-py3-none-any.whl (62 kB)\n",
            "\u001b[K     |████████████████████████████████| 62 kB 2.0 MB/s \n",
            "\u001b[?25hRequirement already satisfied: PyYAML~=6.0 in /usr/local/lib/python3.8/dist-packages (from at-bay-project-summarizer==0.0.6) (6.0)\n",
            "Collecting tokenizers~=0.12.1\n",
            "  Downloading tokenizers-0.12.1-cp38-cp38-manylinux_2_12_x86_64.manylinux2010_x86_64.whl (6.6 MB)\n",
            "\u001b[K     |████████████████████████████████| 6.6 MB 6.9 MB/s \n",
            "\u001b[?25hCollecting transformers~=4.21.3\n",
            "  Downloading transformers-4.21.3-py3-none-any.whl (4.7 MB)\n",
            "\u001b[K     |████████████████████████████████| 4.7 MB 66.6 MB/s \n",
            "\u001b[?25hRequirement already satisfied: packaging~=21.3 in /usr/local/lib/python3.8/dist-packages (from at-bay-project-summarizer==0.0.6) (21.3)\n",
            "Requirement already satisfied: tqdm~=4.64.1 in /usr/local/lib/python3.8/dist-packages (from at-bay-project-summarizer==0.0.6) (4.64.1)\n",
            "Requirement already satisfied: pyparsing~=3.0.9 in /usr/local/lib/python3.8/dist-packages (from at-bay-project-summarizer==0.0.6) (3.0.9)\n",
            "Requirement already satisfied: filelock~=3.8.0 in /usr/local/lib/python3.8/dist-packages (from at-bay-project-summarizer==0.0.6) (3.8.2)\n",
            "Collecting torch~=1.12.1\n",
            "  Downloading torch-1.12.1-cp38-cp38-manylinux1_x86_64.whl (776.3 MB)\n",
            "\u001b[K     |████████████████████████████████| 776.3 MB 1.2 kB/s \n",
            "\u001b[?25hCollecting typing-extensions~=4.3.0\n",
            "  Downloading typing_extensions-4.3.0-py3-none-any.whl (25 kB)\n",
            "Collecting numpy~=1.23.2\n",
            "  Downloading numpy-1.23.5-cp38-cp38-manylinux_2_17_x86_64.manylinux2014_x86_64.whl (17.1 MB)\n",
            "\u001b[K     |████████████████████████████████| 17.1 MB 66.0 MB/s \n",
            "\u001b[?25hInstalling collected packages: urllib3, idna, certifi, typing-extensions, requests, torch, tokenizers, regex, Pillow, numpy, huggingface-hub, transformers, torchvision, at-bay-project-summarizer\n",
            "  Attempting uninstall: urllib3\n",
            "    Found existing installation: urllib3 1.24.3\n",
            "    Uninstalling urllib3-1.24.3:\n",
            "      Successfully uninstalled urllib3-1.24.3\n",
            "  Attempting uninstall: idna\n",
            "    Found existing installation: idna 2.10\n",
            "    Uninstalling idna-2.10:\n",
            "      Successfully uninstalled idna-2.10\n",
            "  Attempting uninstall: certifi\n",
            "    Found existing installation: certifi 2022.12.7\n",
            "    Uninstalling certifi-2022.12.7:\n",
            "      Successfully uninstalled certifi-2022.12.7\n",
            "  Attempting uninstall: typing-extensions\n",
            "    Found existing installation: typing-extensions 4.4.0\n",
            "    Uninstalling typing-extensions-4.4.0:\n",
            "      Successfully uninstalled typing-extensions-4.4.0\n",
            "  Attempting uninstall: requests\n",
            "    Found existing installation: requests 2.23.0\n",
            "    Uninstalling requests-2.23.0:\n",
            "      Successfully uninstalled requests-2.23.0\n",
            "  Attempting uninstall: torch\n",
            "    Found existing installation: torch 1.13.0+cu116\n",
            "    Uninstalling torch-1.13.0+cu116:\n",
            "      Successfully uninstalled torch-1.13.0+cu116\n",
            "  Attempting uninstall: regex\n",
            "    Found existing installation: regex 2022.6.2\n",
            "    Uninstalling regex-2022.6.2:\n",
            "      Successfully uninstalled regex-2022.6.2\n",
            "  Attempting uninstall: Pillow\n",
            "    Found existing installation: Pillow 7.1.2\n",
            "    Uninstalling Pillow-7.1.2:\n",
            "      Successfully uninstalled Pillow-7.1.2\n",
            "  Attempting uninstall: numpy\n",
            "    Found existing installation: numpy 1.21.6\n",
            "    Uninstalling numpy-1.21.6:\n",
            "      Successfully uninstalled numpy-1.21.6\n",
            "  Attempting uninstall: torchvision\n",
            "    Found existing installation: torchvision 0.14.0+cu116\n",
            "    Uninstalling torchvision-0.14.0+cu116:\n",
            "      Successfully uninstalled torchvision-0.14.0+cu116\n",
            "\u001b[31mERROR: pip's dependency resolver does not currently take into account all the packages that are installed. This behaviour is the source of the following dependency conflicts.\n",
            "torchtext 0.14.0 requires torch==1.13.0, but you have torch 1.12.1 which is incompatible.\n",
            "torchaudio 0.13.0+cu116 requires torch==1.13.0, but you have torch 1.12.1 which is incompatible.\n",
            "scipy 1.7.3 requires numpy<1.23.0,>=1.16.5, but you have numpy 1.23.5 which is incompatible.\u001b[0m\n",
            "Successfully installed Pillow-9.2.0 at-bay-project-summarizer-0.0.6 certifi-2022.6.15.2 huggingface-hub-0.9.1 idna-3.4 numpy-1.23.5 regex-2022.8.17 requests-2.28.1 tokenizers-0.12.1 torch-1.12.1 torchvision-0.13.1 transformers-4.21.3 typing-extensions-4.3.0 urllib3-1.26.13\n"
          ]
        },
        {
          "output_type": "display_data",
          "data": {
            "application/vnd.colab-display-data+json": {
              "pip_warning": {
                "packages": [
                  "PIL",
                  "certifi",
                  "numpy"
                ]
              }
            }
          },
          "metadata": {}
        }
      ],
      "source": [
        "!pip install /content/at_bay_project_summarizer-0.0.6-py3-none-any.whl"
      ]
    },
    {
      "cell_type": "code",
      "source": [
        "from summarizer import Summarizer"
      ],
      "metadata": {
        "colab": {
          "base_uri": "https://localhost:8080/"
        },
        "id": "FMxITgLb1ptM",
        "outputId": "0cdbde79-0feb-42c6-adba-85173372fc08"
      },
      "execution_count": 1,
      "outputs": [
        {
          "output_type": "stream",
          "name": "stderr",
          "text": [
            "/usr/local/lib/python3.8/dist-packages/scipy/__init__.py:146: UserWarning: A NumPy version >=1.16.5 and <1.23.0 is required for this version of SciPy (detected version 1.23.5\n",
            "  warnings.warn(f\"A NumPy version >={np_minversion} and <{np_maxversion}\"\n"
          ]
        }
      ]
    },
    {
      "cell_type": "code",
      "source": [
        "txt = \"\"\"Mr and Mrs Dursley, of number four, Privet Drive, were proud to \n",
        "say that they were perfectly normal, thank you very much. They \n",
        "were the last people you’d expect to be involved in anything \n",
        "strange or mysterious, because they just didn’t hold with such \n",
        "nonsense. \n",
        "\n",
        "Mr Dursley was the director of a firm called Grunnings, which \n",
        "made drills. He was a big, beefy man with hardly any neck, \n",
        "although he did have a very large moustache. Mrs Dursley was \n",
        "thin and blonde and had nearly twice the usual amount of neck, \n",
        "which came in very useful as she spent so much of her time craning \n",
        "over garden fences, spying on the neighbours. The Dursleys had a \n",
        "small son called Dudley and in their opinion there was no finer \n",
        "boy anywhere. \n",
        "\n",
        "The Dursleys had everything they wanted, but they also had a \n",
        "secret, and their greatest fear was that somebody would discover \n",
        "it. They didn’t think they could bear it if anyone found out about \n",
        "the Potters. Mrs Potter was Mrs Dursley’s sister, but they hadn’t \n",
        "met for several years; in fact, Mrs Dursley pretended she didn’t \n",
        "have a sister, because her sister and her good-for-nothing husband \n",
        "were as unDursleyish as it was possible to be. The Dursleys \n",
        "shuddered to think what the neighbours would say if the Potters \n",
        "arrived in the street. The Dursleys knew that the Potters had a \n",
        "small son, too, but they had never even seen him. This boy was \n",
        "another good reason for keeping the Potters away; they didn’t \n",
        "want Dudley mixing with a child like that. \n",
        "\n",
        "When Mr and Mrs Dursley woke up on the dull, grey Tuesday \n",
        "our story starts, there was nothing about the cloudy sky outside to \n",
        "suggest that strange and mysterious things would soon be hap¬ \n",
        "pening all over the country. Mr Dursley hummed as he picked out \n",
        "his most boring tie for work and Mrs Dursley gossiped away happily as she wrestled a screaming Dudley into his high chair. \n",
        "\n",
        "None of them noticed a large tawny owl flutter past the window. \n",
        "\n",
        "At half past eight, Mr Dursley picked up his briefcase, pecked \n",
        "Mrs Dursley on the cheek and tried to kiss Dudley goodbye but \n",
        "missed, because Dudley was now having a tantrum and throwing \n",
        "his cereal at the walls. ‘Little tyke,’ chortled Mr Dursley as he left \n",
        "the house. He got into his car and backed out of number four’s \n",
        "drive. \n",
        "\n",
        "It was on the corner of the street that he noticed the first sign \n",
        "of something peculiar - a cat reading a map. For a second, Mr \n",
        "Dursley didn’t realise what he had seen - then he jerked his head \n",
        "around to look again. There was a tabby cat standing on the corner \n",
        "of Privet Drive, but there wasn’t a map in sight. What could \n",
        "he have been thinking of? It must have been a trick of the light. \n",
        "Mr Dursley blinked and stared at the cat. It stared back. As Mr \n",
        "Dursley drove around the corner and up the road, he watched the \n",
        "cat in his mirror. It was now reading the sign that said Privet Drive \n",
        "- no, looking at the sign; cats couldn’t read maps or signs. Mr \n",
        "Dursley gave himself a little shake and put the cat out of his \n",
        "mind. As he drove towards town he thought of nothing except a \n",
        "large order of drills he was hoping to get that day. \n",
        "\n",
        "But on the edge of town, drills were driven out of his mind by \n",
        "something else. As he sat in the usual morning traffic jam, he \n",
        "couldn’t help noticing that there seemed to be a lot of strangely \n",
        "dressed people about. People in cloaks. Mr Dursley couldn’t bear \n",
        "people who dressed in funny clothes - the get-ups you saw on \n",
        "young people! He supposed this was some stupid new fashion. He \n",
        "drummed his fingers on the steering wheel and his eyes fell on a \n",
        "huddle of these weirdos standing quite close by. They were whis¬ \n",
        "pering excitedly together. Mr Dursley was enraged to see that a \n",
        "couple of them weren’t young at all; why, that man had to be older \n",
        "than he was, and wearing an emerald-green cloak! The nerve of \n",
        "him! But then it struck Mr Dursley that this was probably some \n",
        "silly stunt - these people were obviously collecting for something \n",
        "... yes, that would be it. The traffic moved on, and a few minutes \n",
        "later, Mr Dursley arrived in the Grunnings car park, his mind \n",
        "back on drills. \n",
        "\"\"\""
      ],
      "metadata": {
        "id": "IIdGde4e2ewq"
      },
      "execution_count": 3,
      "outputs": []
    },
    {
      "cell_type": "code",
      "source": [
        "summarizer = Summarizer()"
      ],
      "metadata": {
        "id": "KQI8BWa92Hmn"
      },
      "execution_count": 5,
      "outputs": []
    },
    {
      "cell_type": "code",
      "source": [
        "summary = summarizer.summarize_all(in_text=txt, max_token_length=512)\n",
        "print(summary)"
      ],
      "metadata": {
        "colab": {
          "base_uri": "https://localhost:8080/"
        },
        "id": "np-Fkhix2Zz7",
        "outputId": "b5089122-f3ab-48df-afe1-caa2f7e2fb79"
      },
      "execution_count": 8,
      "outputs": [
        {
          "output_type": "stream",
          "name": "stdout",
          "text": [
            "Mr and Mrs Dursley, of number four, Privet Drive, were proud to say that they were perfectly normal, thank you very much. They were the last people you’d expect to be involved in anything strange or mysterious, because they just didn’t hold with such nonsense. The Dursleys had a small son called Dudley and in their opinion there was no finer boy anywhere. They also had a secret, and their greatest fear was that somebody would discover it. Mr Dursley always sat with his back to the window in his office. If he hadn’t, he might have found it harder to concentrate on drills that morning. He didn't see the owls. Mr and Mrs Dursley, of number four, Privet Drive, were proud to say that they were perfectly normal, thank you very much. They were the last people you’d expect to be involved in anything strange or mysterious, because they just didn’t hold with such nonsense. The Dursleys had a small son called Dudley and in their opinion there was no finer boy anywhere. They also had a secret, and their greatest fear was that somebody would discover it.\n"
          ]
        }
      ]
    },
    {
      "cell_type": "code",
      "source": [],
      "metadata": {
        "id": "wN6xrzkg4GlY"
      },
      "execution_count": null,
      "outputs": []
    }
  ]
}